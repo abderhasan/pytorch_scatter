{
  "nbformat": 4,
  "nbformat_minor": 0,
  "metadata": {
    "colab": {
      "name": "pytorch_scatter.ipynb",
      "provenance": [],
      "authorship_tag": "ABX9TyNRwVq5I7lq/xMEnnlQ94Vp",
      "include_colab_link": true
    },
    "kernelspec": {
      "name": "python3",
      "display_name": "Python 3"
    }
  },
  "cells": [
    {
      "cell_type": "markdown",
      "metadata": {
        "id": "view-in-github",
        "colab_type": "text"
      },
      "source": [
        "<a href=\"https://colab.research.google.com/github/abderhasan/pytorch_scatter/blob/main/pytorch_scatter.ipynb\" target=\"_parent\"><img src=\"https://colab.research.google.com/assets/colab-badge.svg\" alt=\"Open In Colab\"/></a>"
      ]
    },
    {
      "cell_type": "code",
      "metadata": {
        "id": "CP8KFaLdNpTd",
        "outputId": "4c04d701-7583-46ad-8bfd-0e81b31ada6a",
        "colab": {
          "base_uri": "https://localhost:8080/"
        }
      },
      "source": [
        "# scatter along dim=0\n",
        "import torch\n",
        "\n",
        "index_tensor = torch.tensor([[1,3,0,2,0],[0,2,2,1,3],[3,0,0,1,1]])\n",
        "input_tensor = torch.zeros(4,5).scatter_(0,index_tensor,1)\n",
        "\n",
        "print(input_tensor)"
      ],
      "execution_count": 1,
      "outputs": [
        {
          "output_type": "stream",
          "text": [
            "tensor([[1., 1., 1., 0., 1.],\n",
            "        [1., 0., 0., 1., 1.],\n",
            "        [0., 1., 1., 1., 0.],\n",
            "        [1., 1., 0., 0., 1.]])\n"
          ],
          "name": "stdout"
        }
      ]
    },
    {
      "cell_type": "code",
      "metadata": {
        "id": "UsW8kRihOBSq",
        "outputId": "f6532d44-7aea-4d95-d815-3b77eb01c3db",
        "colab": {
          "base_uri": "https://localhost:8080/"
        }
      },
      "source": [
        "# scatter along dim=1\n",
        "import torch\n",
        "\n",
        "index_tensor = torch.tensor([[1,3,0,2,0],[0,2,2,1,3],[3,0,0,1,1]])\n",
        "input_tensor = torch.zeros(3,5).scatter_(1,index_tensor,1)\n",
        "\n",
        "print(input_tensor)"
      ],
      "execution_count": 2,
      "outputs": [
        {
          "output_type": "stream",
          "text": [
            "tensor([[1., 1., 1., 1., 0.],\n",
            "        [1., 1., 1., 1., 0.],\n",
            "        [1., 1., 0., 1., 0.]])\n"
          ],
          "name": "stdout"
        }
      ]
    }
  ]
}